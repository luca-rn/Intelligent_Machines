{
  "nbformat": 4,
  "nbformat_minor": 0,
  "metadata": {
    "colab": {
      "provenance": [],
      "gpuType": "T4"
    },
    "kernelspec": {
      "name": "python3",
      "display_name": "Python 3"
    },
    "language_info": {
      "name": "python"
    },
    "accelerator": "GPU"
  },
  "cells": [
    {
      "cell_type": "code",
      "execution_count": 1,
      "metadata": {
        "id": "kzEa4IHSRvhy"
      },
      "outputs": [],
      "source": [
        "import os\n",
        "import numpy as np\n",
        "import torch\n",
        "from torch.utils.data import Dataset, DataLoader\n",
        "import torchvision\n",
        "from torchvision import transforms\n",
        "from torchvision.models.detection import fasterrcnn_resnet50_fpn\n",
        "from torchvision.models.detection.faster_rcnn import FastRCNNPredictor\n",
        "from PIL import Image\n",
        "import matplotlib.pyplot as plt"
      ]
    },
    {
      "cell_type": "code",
      "source": [
        "from google.colab import drive\n",
        "drive.mount('/content/drive')\n",
        "\n",
        "zip_path = '/content/drive/MyDrive/data-yolo.zip'"
      ],
      "metadata": {
        "colab": {
          "base_uri": "https://localhost:8080/"
        },
        "id": "qWZKCd4-SGl7",
        "outputId": "ee4630bd-6e3e-4cd7-82b2-149f0105554c"
      },
      "execution_count": 2,
      "outputs": [
        {
          "output_type": "stream",
          "name": "stdout",
          "text": [
            "Mounted at /content/drive\n"
          ]
        }
      ]
    },
    {
      "cell_type": "code",
      "source": [
        "import shutil\n",
        "import os\n",
        "import zipfile\n",
        "\n",
        "# extract zip file\n",
        "download_folder = \"/content\"\n",
        "zip_name = \"data-yolo.zip\"\n",
        "os.makedirs(download_folder, exist_ok=True)\n",
        "\n",
        "with zipfile.ZipFile(zip_path, \"r\") as zip_ref:\n",
        "    zip_ref.extractall(download_folder)\n",
        "\n",
        "print(f\"Extraction complete! Files saved to {download_folder}\")"
      ],
      "metadata": {
        "colab": {
          "base_uri": "https://localhost:8080/"
        },
        "id": "DrYJDaqgSH8O",
        "outputId": "4bc48165-c1ef-4e5d-a53c-ab69a8c4a14d"
      },
      "execution_count": 3,
      "outputs": [
        {
          "output_type": "stream",
          "name": "stdout",
          "text": [
            "Extraction complete! Files saved to /content\n"
          ]
        }
      ]
    },
    {
      "cell_type": "code",
      "source": [
        "# split data into training and validation, still in yolo format\n",
        "\n",
        "import os\n",
        "import shutil\n",
        "import random\n",
        "\n",
        "# Paths\n",
        "dataset_path = download_folder\n",
        "image_dir = os.path.join(dataset_path, \"images\")\n",
        "label_dir = os.path.join(dataset_path, \"labels\")\n",
        "\n",
        "# Output paths\n",
        "train_img = os.path.join(dataset_path, \"images/train\")\n",
        "val_img = os.path.join(dataset_path, \"images/val\")\n",
        "train_lbl = os.path.join(dataset_path, \"yolo/labels/train\")\n",
        "val_lbl = os.path.join(dataset_path, \"yolo/labels/val\")\n",
        "\n",
        "# Create train/val folders\n",
        "for d in [train_img, val_img, train_lbl, val_lbl]:\n",
        "    os.makedirs(d, exist_ok=True)\n",
        "\n",
        "# List images and shuffle\n",
        "images = sorted([f for f in os.listdir(image_dir) if f.endswith(\".jpg\")])  # Adjust for other image formats\n",
        "random.shuffle(images)\n",
        "\n",
        "# Split 80% train, 20% val\n",
        "split_idx = int(0.8 * len(images))\n",
        "train_files, val_files = images[:split_idx], images[split_idx:]\n",
        "\n",
        "# Move files\n",
        "for file_list, img_dest, lbl_dest in [(train_files, train_img, train_lbl), (val_files, val_img, val_lbl)]:\n",
        "    for file in file_list:\n",
        "        shutil.move(os.path.join(image_dir, file), os.path.join(img_dest, file))\n",
        "        label_file = file.replace(\".jpg\", \".txt\")  # Assuming YOLO format\n",
        "        if os.path.exists(os.path.join(label_dir, label_file)):\n",
        "            shutil.move(os.path.join(label_dir, label_file), os.path.join(lbl_dest, label_file))\n",
        "\n",
        "print(\"Dataset successfully split into training and validation sets!\")\n",
        "\n",
        "yolo_train_labels = train_lbl\n",
        "yolo_val_labels = val_lbl"
      ],
      "metadata": {
        "colab": {
          "base_uri": "https://localhost:8080/"
        },
        "id": "D1xE5DmWY-wa",
        "outputId": "46658d4c-4aa8-4f75-af94-8666f066a667"
      },
      "execution_count": 8,
      "outputs": [
        {
          "output_type": "stream",
          "name": "stdout",
          "text": [
            "Dataset successfully split into training and validation sets!\n"
          ]
        }
      ]
    },
    {
      "cell_type": "code",
      "source": [
        "# Converting from YOLO annotations to annotations for Faster RCNN\n",
        "\n",
        "import os\n",
        "import json\n",
        "import glob\n",
        "from PIL import Image\n",
        "\n",
        "#classes = [\"Exploding Kittens\", \"Munchkin\", \"Poker\", \"Uno\"]\n",
        "\n",
        "rcnn_train_labels = os.path.join(dataset_path, \"labels/train\")\n",
        "rcnn_val_labels = os.path.join(dataset_path, \"labels/val\")\n",
        "\n",
        "# Create directories if they don't exist\n",
        "os.makedirs(rcnn_train_labels, exist_ok=True)\n",
        "os.makedirs(rcnn_val_labels, exist_ok=True)\n",
        "\n",
        "def yolo_to_rcnn_bbox(x_center, y_center, width, height, img_w, img_h):\n",
        "    x_center *= img_w\n",
        "    y_center *= img_h\n",
        "    width *= img_w\n",
        "    height *= img_h\n",
        "\n",
        "    x_min = x_center - width / 2\n",
        "    y_min = y_center - height / 2\n",
        "    x_max = x_center + width / 2\n",
        "    y_max = y_center + height / 2\n",
        "\n",
        "    return [x_min, y_min, x_max, y_max]\n",
        "\n",
        "\n",
        "def convert_yolo_folder_to_rcnn(yolo_folder,img_folder,out_folder):\n",
        "  for label_file in os.listdir(yolo_folder):\n",
        "    if not label_file.endswith('.txt'):\n",
        "        continue\n",
        "\n",
        "    img_name = label_file.replace('.txt', '.jpg')\n",
        "    img_path = os.path.join(img_folder, img_name)\n",
        "    label_path = os.path.join(yolo_folder, label_file)\n",
        "\n",
        "    if not os.path.exists(img_path):\n",
        "        print(f\"Image not found for {label_file}, skipping.\")\n",
        "        continue\n",
        "\n",
        "    img = Image.open(img_path)\n",
        "    img_w, img_h = img.size\n",
        "\n",
        "    with open(label_path, 'r') as f:\n",
        "        lines = f.readlines()\n",
        "\n",
        "    rcnn_lines = []\n",
        "    for line in lines:\n",
        "      class_id, x_c, y_c, w, h = map(float, line.strip().split())\n",
        "      x_min, y_min, x_max, y_max = yolo_to_rcnn_bbox(x_c, y_c, w, h, img_w, img_h)\n",
        "      rcnn_lines.append(f\"{int(class_id)} {x_min} {y_min} {x_max} {y_max}\")\n",
        "\n",
        "    output_file = os.path.join(out_folder, label_file)\n",
        "    with open(output_file, 'w') as f:\n",
        "      f.write(\"\\n\".join(rcnn_lines))\n",
        "\n",
        "    print(f'Converted labels from {yolo_folder} to {out_folder}')\n",
        "  return out_folder\n",
        "\n",
        "train_lbl = convert_yolo_folder_to_rcnn(yolo_train_labels, train_img, rcnn_train_labels)\n",
        "val_lbl = convert_yolo_folder_to_rcnn(yolo_val_labels, val_img, rcnn_val_labels)"
      ],
      "metadata": {
        "colab": {
          "base_uri": "https://localhost:8080/"
        },
        "id": "tGEP7cHjZCaa",
        "outputId": "7319acf8-9823-4d32-a2ac-f9ffcf3da172"
      },
      "execution_count": 11,
      "outputs": [
        {
          "output_type": "stream",
          "name": "stdout",
          "text": [
            "Converted labels from /content/yolo/labels/train to /content/labels/train\n",
            "Converted labels from /content/yolo/labels/train to /content/labels/train\n",
            "Converted labels from /content/yolo/labels/train to /content/labels/train\n",
            "Converted labels from /content/yolo/labels/train to /content/labels/train\n",
            "Converted labels from /content/yolo/labels/train to /content/labels/train\n",
            "Converted labels from /content/yolo/labels/train to /content/labels/train\n",
            "Converted labels from /content/yolo/labels/train to /content/labels/train\n",
            "Converted labels from /content/yolo/labels/train to /content/labels/train\n",
            "Converted labels from /content/yolo/labels/train to /content/labels/train\n",
            "Converted labels from /content/yolo/labels/train to /content/labels/train\n",
            "Converted labels from /content/yolo/labels/train to /content/labels/train\n",
            "Converted labels from /content/yolo/labels/train to /content/labels/train\n",
            "Converted labels from /content/yolo/labels/train to /content/labels/train\n",
            "Converted labels from /content/yolo/labels/train to /content/labels/train\n",
            "Converted labels from /content/yolo/labels/train to /content/labels/train\n",
            "Converted labels from /content/yolo/labels/train to /content/labels/train\n",
            "Converted labels from /content/yolo/labels/train to /content/labels/train\n",
            "Converted labels from /content/yolo/labels/train to /content/labels/train\n",
            "Converted labels from /content/yolo/labels/train to /content/labels/train\n",
            "Converted labels from /content/yolo/labels/train to /content/labels/train\n",
            "Converted labels from /content/yolo/labels/train to /content/labels/train\n",
            "Converted labels from /content/yolo/labels/train to /content/labels/train\n",
            "Converted labels from /content/yolo/labels/train to /content/labels/train\n",
            "Converted labels from /content/yolo/labels/train to /content/labels/train\n",
            "Converted labels from /content/yolo/labels/train to /content/labels/train\n",
            "Converted labels from /content/yolo/labels/train to /content/labels/train\n",
            "Converted labels from /content/yolo/labels/train to /content/labels/train\n",
            "Converted labels from /content/yolo/labels/train to /content/labels/train\n",
            "Converted labels from /content/yolo/labels/train to /content/labels/train\n",
            "Converted labels from /content/yolo/labels/train to /content/labels/train\n",
            "Converted labels from /content/yolo/labels/train to /content/labels/train\n",
            "Converted labels from /content/yolo/labels/train to /content/labels/train\n",
            "Converted labels from /content/yolo/labels/train to /content/labels/train\n",
            "Converted labels from /content/yolo/labels/train to /content/labels/train\n",
            "Converted labels from /content/yolo/labels/train to /content/labels/train\n",
            "Converted labels from /content/yolo/labels/train to /content/labels/train\n",
            "Converted labels from /content/yolo/labels/train to /content/labels/train\n",
            "Converted labels from /content/yolo/labels/train to /content/labels/train\n",
            "Converted labels from /content/yolo/labels/train to /content/labels/train\n",
            "Converted labels from /content/yolo/labels/train to /content/labels/train\n",
            "Converted labels from /content/yolo/labels/train to /content/labels/train\n",
            "Converted labels from /content/yolo/labels/train to /content/labels/train\n",
            "Converted labels from /content/yolo/labels/train to /content/labels/train\n",
            "Converted labels from /content/yolo/labels/train to /content/labels/train\n",
            "Converted labels from /content/yolo/labels/train to /content/labels/train\n",
            "Converted labels from /content/yolo/labels/train to /content/labels/train\n",
            "Converted labels from /content/yolo/labels/train to /content/labels/train\n",
            "Converted labels from /content/yolo/labels/train to /content/labels/train\n",
            "Converted labels from /content/yolo/labels/train to /content/labels/train\n",
            "Converted labels from /content/yolo/labels/train to /content/labels/train\n",
            "Converted labels from /content/yolo/labels/train to /content/labels/train\n",
            "Converted labels from /content/yolo/labels/train to /content/labels/train\n",
            "Converted labels from /content/yolo/labels/train to /content/labels/train\n",
            "Converted labels from /content/yolo/labels/train to /content/labels/train\n",
            "Converted labels from /content/yolo/labels/train to /content/labels/train\n",
            "Converted labels from /content/yolo/labels/train to /content/labels/train\n",
            "Converted labels from /content/yolo/labels/train to /content/labels/train\n",
            "Converted labels from /content/yolo/labels/train to /content/labels/train\n",
            "Converted labels from /content/yolo/labels/train to /content/labels/train\n",
            "Converted labels from /content/yolo/labels/train to /content/labels/train\n",
            "Converted labels from /content/yolo/labels/train to /content/labels/train\n",
            "Converted labels from /content/yolo/labels/train to /content/labels/train\n",
            "Converted labels from /content/yolo/labels/train to /content/labels/train\n",
            "Converted labels from /content/yolo/labels/train to /content/labels/train\n",
            "Converted labels from /content/yolo/labels/train to /content/labels/train\n",
            "Converted labels from /content/yolo/labels/val to /content/labels/val\n",
            "Converted labels from /content/yolo/labels/val to /content/labels/val\n",
            "Converted labels from /content/yolo/labels/val to /content/labels/val\n",
            "Converted labels from /content/yolo/labels/val to /content/labels/val\n",
            "Converted labels from /content/yolo/labels/val to /content/labels/val\n",
            "Converted labels from /content/yolo/labels/val to /content/labels/val\n",
            "Converted labels from /content/yolo/labels/val to /content/labels/val\n",
            "Converted labels from /content/yolo/labels/val to /content/labels/val\n",
            "Converted labels from /content/yolo/labels/val to /content/labels/val\n",
            "Converted labels from /content/yolo/labels/val to /content/labels/val\n",
            "Converted labels from /content/yolo/labels/val to /content/labels/val\n",
            "Converted labels from /content/yolo/labels/val to /content/labels/val\n",
            "Converted labels from /content/yolo/labels/val to /content/labels/val\n",
            "Converted labels from /content/yolo/labels/val to /content/labels/val\n",
            "Converted labels from /content/yolo/labels/val to /content/labels/val\n",
            "Converted labels from /content/yolo/labels/val to /content/labels/val\n",
            "Converted labels from /content/yolo/labels/val to /content/labels/val\n"
          ]
        }
      ]
    },
    {
      "cell_type": "code",
      "source": [
        "# Read class names from classes.txt\n",
        "classes_txt_path = os.path.join(dataset_path, \"classes.txt\")\n",
        "with open(classes_txt_path, \"r\") as f:\n",
        "    class_names = [line.strip() for line in f.readlines()]\n",
        "\n",
        "# Generate dataset.yaml\n",
        "dataset_yaml_path = os.path.join(dataset_path, \"dataset.yaml\")\n",
        "with open(dataset_yaml_path, \"w\") as f:\n",
        "    f.write(f\"train: {os.path.join(dataset_path, 'images/train')}\\n\")\n",
        "    f.write(f\"val: {os.path.join(dataset_path, 'images/val')}\\n\")\n",
        "    f.write(f\"nc: {len(class_names)}\\n\")\n",
        "    f.write(f\"names: {class_names}\\n\")\n",
        "\n",
        "print('\\nFile contents:\\n')\n",
        "!cat /content/dataset.yaml"
      ],
      "metadata": {
        "colab": {
          "base_uri": "https://localhost:8080/"
        },
        "id": "NvS1hgvcZXcm",
        "outputId": "2683fd56-b7d6-4319-ea06-74506ce5591e"
      },
      "execution_count": 12,
      "outputs": [
        {
          "output_type": "stream",
          "name": "stdout",
          "text": [
            "\n",
            "File contents:\n",
            "\n",
            "train: /content/images/train\n",
            "val: /content/images/val\n",
            "nc: 4\n",
            "names: ['Exploding Kittens', 'Munchkin', 'Poker', 'Uno']\n"
          ]
        }
      ]
    },
    {
      "cell_type": "code",
      "source": [],
      "metadata": {
        "id": "EC9CwLriZpmS"
      },
      "execution_count": null,
      "outputs": []
    },
    {
      "cell_type": "code",
      "source": [
        "device = torch.device('cuda') if torch.cuda.is_available() else torch.device('cpu')\n",
        "print(f\"Using device: {device}\")"
      ],
      "metadata": {
        "colab": {
          "base_uri": "https://localhost:8080/"
        },
        "id": "ppdIubDcR1v_",
        "outputId": "922f8a5f-a056-43ae-f119-d96f5d9f2fb5"
      },
      "execution_count": 4,
      "outputs": [
        {
          "output_type": "stream",
          "name": "stdout",
          "text": [
            "Using device: cuda\n"
          ]
        }
      ]
    },
    {
      "cell_type": "code",
      "source": [],
      "metadata": {
        "id": "Xgj6dgxkR4AJ"
      },
      "execution_count": 5,
      "outputs": []
    },
    {
      "cell_type": "code",
      "source": [],
      "metadata": {
        "id": "9yFygS0lR9gO"
      },
      "execution_count": 6,
      "outputs": []
    },
    {
      "cell_type": "code",
      "source": [],
      "metadata": {
        "colab": {
          "base_uri": "https://localhost:8080/",
          "height": 158
        },
        "id": "owfmSPVEV0kL",
        "outputId": "a1ad2246-fdb7-4271-dcbe-0fb16683011b"
      },
      "execution_count": 7,
      "outputs": [
        {
          "output_type": "error",
          "ename": "NameError",
          "evalue": "name 'images_dir' is not defined",
          "traceback": [
            "\u001b[0;31m---------------------------------------------------------------------------\u001b[0m",
            "\u001b[0;31mNameError\u001b[0m                                 Traceback (most recent call last)",
            "\u001b[0;32m<ipython-input-7-a32ceb896d80>\u001b[0m in \u001b[0;36m<cell line: 0>\u001b[0;34m()\u001b[0m\n\u001b[0;32m----> 1\u001b[0;31m \u001b[0mdataset\u001b[0m \u001b[0;34m=\u001b[0m \u001b[0mCardDataset\u001b[0m\u001b[0;34m(\u001b[0m\u001b[0mimages_dir\u001b[0m\u001b[0;34m,\u001b[0m \u001b[0mannotations\u001b[0m\u001b[0;34m,\u001b[0m \u001b[0mtransforms\u001b[0m\u001b[0;34m=\u001b[0m\u001b[0mtrain_transforms\u001b[0m\u001b[0;34m)\u001b[0m\u001b[0;34m\u001b[0m\u001b[0;34m\u001b[0m\u001b[0m\n\u001b[0m\u001b[1;32m      2\u001b[0m \u001b[0mdataloader\u001b[0m \u001b[0;34m=\u001b[0m \u001b[0mDataLoader\u001b[0m\u001b[0;34m(\u001b[0m\u001b[0mdataset\u001b[0m\u001b[0;34m,\u001b[0m \u001b[0mbatch_size\u001b[0m\u001b[0;34m=\u001b[0m\u001b[0;36m4\u001b[0m\u001b[0;34m,\u001b[0m \u001b[0mshuffle\u001b[0m\u001b[0;34m=\u001b[0m\u001b[0;32mTrue\u001b[0m\u001b[0;34m,\u001b[0m \u001b[0mcollate_fn\u001b[0m\u001b[0;34m=\u001b[0m\u001b[0;32mlambda\u001b[0m \u001b[0mx\u001b[0m\u001b[0;34m:\u001b[0m \u001b[0mtuple\u001b[0m\u001b[0;34m(\u001b[0m\u001b[0mzip\u001b[0m\u001b[0;34m(\u001b[0m\u001b[0;34m*\u001b[0m\u001b[0mx\u001b[0m\u001b[0;34m)\u001b[0m\u001b[0;34m)\u001b[0m\u001b[0;34m)\u001b[0m\u001b[0;34m\u001b[0m\u001b[0;34m\u001b[0m\u001b[0m\n",
            "\u001b[0;31mNameError\u001b[0m: name 'images_dir' is not defined"
          ]
        }
      ]
    }
  ]
}